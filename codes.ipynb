{
 "cells": [
  {
   "cell_type": "markdown",
   "metadata": {},
   "source": [
    "# CodeWars: The Western Suburbs Croquet Club "
   ]
  },
  {
   "cell_type": "code",
   "execution_count": null,
   "metadata": {
    "collapsed": true
   },
   "outputs": [],
   "source": [
    "data = [[18,28]],[[45,2]],[[61,12]],[[37,6]][[21,21]],[[78,9]]"
   ]
  },
  {
   "cell_type": "code",
   "execution_count": 4,
   "metadata": {
    "collapsed": true
   },
   "outputs": [],
   "source": [
    "#Using the .append method\n",
    "\n",
    "def openOrSenior(data):\n",
    "    output = []\n",
    "    for row in data:\n",
    "        if row[0] >= 55 and row[1] > 7:\n",
    "            output.append(\"Senior\")\n",
    "    else:\n",
    "            output.append(\"Open\")\n",
    "    return output"
   ]
  },
  {
   "cell_type": "code",
   "execution_count": 6,
   "metadata": {
    "collapsed": true
   },
   "outputs": [],
   "source": [
    "#List comprehension method\n",
    "\n",
    "def openOrSenior(data):\n",
    "    return[\"Senior\" if x[0] >= 55 and x[1] > 7 else \"Open\" for x in data]\n"
   ]
  }
 ],
 "metadata": {
  "kernelspec": {
   "display_name": "Python 2",
   "language": "python",
   "name": "python2"
  },
  "language_info": {
   "codemirror_mode": {
    "name": "ipython",
    "version": 2
   },
   "file_extension": ".py",
   "mimetype": "text/x-python",
   "name": "python",
   "nbconvert_exporter": "python",
   "pygments_lexer": "ipython2",
   "version": "2.7.13"
  }
 },
 "nbformat": 4,
 "nbformat_minor": 2
}
